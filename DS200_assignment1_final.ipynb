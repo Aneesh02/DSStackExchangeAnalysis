{
 "cells": [
  {
   "cell_type": "markdown",
   "metadata": {},
   "source": [
    "# Assignment 1 Solutions"
   ]
  },
  {
   "cell_type": "markdown",
   "metadata": {},
   "source": [
    "Importing basic packages"
   ]
  },
  {
   "cell_type": "code",
   "execution_count": 24,
   "metadata": {},
   "outputs": [],
   "source": [
    "import xml.etree.ElementTree as ET\n",
    "import xml.dom.minidom as xmlparser\n",
    "import pandas as pd"
   ]
  },
  {
   "cell_type": "code",
   "execution_count": 25,
   "metadata": {},
   "outputs": [],
   "source": [
    "# use the parse() function to load and parse XML files\n",
    "\n",
    "badges_doc = ET.parse(\"./datascience.stackexchange.com/Badges.xml\")\n",
    "comments_doc = ET.parse(\"./datascience.stackexchange.com/Comments.xml\")\n",
    "history_doc = ET.parse(\"./datascience.stackexchange.com/PostHistory.xml\")\n",
    "links_doc = ET.parse(\"./datascience.stackexchange.com/PostLinks.xml\")\n",
    "posts_doc = ET.parse(\"./datascience.stackexchange.com/Posts.xml\")\n",
    "tags_doc = ET.parse(\"./datascience.stackexchange.com/Tags.xml\")\n",
    "user_doc = ET.parse(\"./datascience.stackexchange.com/Users.xml\")\n",
    "vote_doc = ET.parse(\"./datascience.stackexchange.com/Votes.xml\")"
   ]
  },
  {
   "cell_type": "code",
   "execution_count": 26,
   "metadata": {},
   "outputs": [],
   "source": [
    "root_badges = badges_doc.getroot()\n",
    "root_comments = comments_doc.getroot()\n",
    "root_history = history_doc.getroot()\n",
    "root_links = links_doc.getroot()\n",
    "root_posts = posts_doc.getroot()\n",
    "root_tags = tags_doc.getroot()\n",
    "root_user = user_doc.getroot()\n",
    "root_vote = vote_doc.getroot()"
   ]
  },
  {
   "cell_type": "markdown",
   "metadata": {},
   "source": [
    "### PART 1"
   ]
  },
  {
   "cell_type": "markdown",
   "metadata": {},
   "source": [
    "Variable *root_files* stores all the **Element Trees** that we get from the XML parser.<br> *root_files_tag* stores the parent tag in the XML file for each file.<br>*lst* is a list of lists which stores all the tags from all files in a dedicated list for that file."
   ]
  },
  {
   "cell_type": "code",
   "execution_count": 27,
   "metadata": {},
   "outputs": [],
   "source": [
    "root_files=[root_badges,root_comments,root_history,root_links,root_posts,root_tags,root_user,root_vote]\n",
    "root_files_tags=[root_badges.tag,root_comments.tag,root_history.tag,root_links.tag,root_posts.tag,root_tags.tag,root_user.tag,root_vote.tag]\n",
    "lst=[]\n",
    "for ele in root_files:\n",
    "    lst.append(list(ele[1].attrib.keys()))   #gives us all the child tags of the first row."
   ]
  },
  {
   "cell_type": "markdown",
   "metadata": {},
   "source": [
    "*columns* dictionary contains all the tags across all files with tag as key and the number of file it existas as values"
   ]
  },
  {
   "cell_type": "code",
   "execution_count": 28,
   "metadata": {},
   "outputs": [],
   "source": [
    "columns={}\n",
    "for elem_lst in lst:\n",
    "    for elem in elem_lst:\n",
    "        columns[elem] = columns.get(elem, 0) + 1\n",
    "columns=dict(sorted(columns.items(), key=lambda item: item[1],reverse=True))"
   ]
  },
  {
   "cell_type": "markdown",
   "metadata": {},
   "source": [
    "**data** is the schema we need. It is sorted in such a way that most frequent tags come first."
   ]
  },
  {
   "cell_type": "code",
   "execution_count": 29,
   "metadata": {},
   "outputs": [],
   "source": [
    "data=pd.DataFrame(columns=list(columns.keys()),index=root_files_tags)\n",
    "for ele in root_files:\n",
    "    for elem in (ele[1].attrib.keys()):\n",
    "        data[elem][ele.tag]=\"Yes\"\n",
    "data=data.fillna(\"-\")"
   ]
  },
  {
   "cell_type": "code",
   "execution_count": 30,
   "metadata": {},
   "outputs": [
    {
     "data": {
      "text/html": [
       "<div>\n",
       "<style scoped>\n",
       "    .dataframe tbody tr th:only-of-type {\n",
       "        vertical-align: middle;\n",
       "    }\n",
       "\n",
       "    .dataframe tbody tr th {\n",
       "        vertical-align: top;\n",
       "    }\n",
       "\n",
       "    .dataframe thead th {\n",
       "        text-align: right;\n",
       "    }\n",
       "</style>\n",
       "<table border=\"1\" class=\"dataframe\">\n",
       "  <thead>\n",
       "    <tr style=\"text-align: right;\">\n",
       "      <th></th>\n",
       "      <th>Id</th>\n",
       "      <th>CreationDate</th>\n",
       "      <th>PostId</th>\n",
       "      <th>UserId</th>\n",
       "      <th>ContentLicense</th>\n",
       "      <th>Score</th>\n",
       "      <th>Text</th>\n",
       "      <th>Name</th>\n",
       "      <th>Date</th>\n",
       "      <th>Class</th>\n",
       "      <th>...</th>\n",
       "      <th>DisplayName</th>\n",
       "      <th>LastAccessDate</th>\n",
       "      <th>Location</th>\n",
       "      <th>AboutMe</th>\n",
       "      <th>Views</th>\n",
       "      <th>UpVotes</th>\n",
       "      <th>DownVotes</th>\n",
       "      <th>ProfileImageUrl</th>\n",
       "      <th>AccountId</th>\n",
       "      <th>VoteTypeId</th>\n",
       "    </tr>\n",
       "  </thead>\n",
       "  <tbody>\n",
       "    <tr>\n",
       "      <th>badges</th>\n",
       "      <td>Yes</td>\n",
       "      <td>-</td>\n",
       "      <td>-</td>\n",
       "      <td>Yes</td>\n",
       "      <td>-</td>\n",
       "      <td>-</td>\n",
       "      <td>-</td>\n",
       "      <td>Yes</td>\n",
       "      <td>Yes</td>\n",
       "      <td>Yes</td>\n",
       "      <td>...</td>\n",
       "      <td>-</td>\n",
       "      <td>-</td>\n",
       "      <td>-</td>\n",
       "      <td>-</td>\n",
       "      <td>-</td>\n",
       "      <td>-</td>\n",
       "      <td>-</td>\n",
       "      <td>-</td>\n",
       "      <td>-</td>\n",
       "      <td>-</td>\n",
       "    </tr>\n",
       "    <tr>\n",
       "      <th>comments</th>\n",
       "      <td>Yes</td>\n",
       "      <td>Yes</td>\n",
       "      <td>Yes</td>\n",
       "      <td>Yes</td>\n",
       "      <td>Yes</td>\n",
       "      <td>Yes</td>\n",
       "      <td>Yes</td>\n",
       "      <td>-</td>\n",
       "      <td>-</td>\n",
       "      <td>-</td>\n",
       "      <td>...</td>\n",
       "      <td>-</td>\n",
       "      <td>-</td>\n",
       "      <td>-</td>\n",
       "      <td>-</td>\n",
       "      <td>-</td>\n",
       "      <td>-</td>\n",
       "      <td>-</td>\n",
       "      <td>-</td>\n",
       "      <td>-</td>\n",
       "      <td>-</td>\n",
       "    </tr>\n",
       "    <tr>\n",
       "      <th>posthistory</th>\n",
       "      <td>Yes</td>\n",
       "      <td>Yes</td>\n",
       "      <td>Yes</td>\n",
       "      <td>Yes</td>\n",
       "      <td>Yes</td>\n",
       "      <td>-</td>\n",
       "      <td>Yes</td>\n",
       "      <td>-</td>\n",
       "      <td>-</td>\n",
       "      <td>-</td>\n",
       "      <td>...</td>\n",
       "      <td>-</td>\n",
       "      <td>-</td>\n",
       "      <td>-</td>\n",
       "      <td>-</td>\n",
       "      <td>-</td>\n",
       "      <td>-</td>\n",
       "      <td>-</td>\n",
       "      <td>-</td>\n",
       "      <td>-</td>\n",
       "      <td>-</td>\n",
       "    </tr>\n",
       "    <tr>\n",
       "      <th>postlinks</th>\n",
       "      <td>Yes</td>\n",
       "      <td>Yes</td>\n",
       "      <td>Yes</td>\n",
       "      <td>-</td>\n",
       "      <td>-</td>\n",
       "      <td>-</td>\n",
       "      <td>-</td>\n",
       "      <td>-</td>\n",
       "      <td>-</td>\n",
       "      <td>-</td>\n",
       "      <td>...</td>\n",
       "      <td>-</td>\n",
       "      <td>-</td>\n",
       "      <td>-</td>\n",
       "      <td>-</td>\n",
       "      <td>-</td>\n",
       "      <td>-</td>\n",
       "      <td>-</td>\n",
       "      <td>-</td>\n",
       "      <td>-</td>\n",
       "      <td>-</td>\n",
       "    </tr>\n",
       "    <tr>\n",
       "      <th>posts</th>\n",
       "      <td>Yes</td>\n",
       "      <td>Yes</td>\n",
       "      <td>-</td>\n",
       "      <td>-</td>\n",
       "      <td>Yes</td>\n",
       "      <td>Yes</td>\n",
       "      <td>-</td>\n",
       "      <td>-</td>\n",
       "      <td>-</td>\n",
       "      <td>-</td>\n",
       "      <td>...</td>\n",
       "      <td>-</td>\n",
       "      <td>-</td>\n",
       "      <td>-</td>\n",
       "      <td>-</td>\n",
       "      <td>-</td>\n",
       "      <td>-</td>\n",
       "      <td>-</td>\n",
       "      <td>-</td>\n",
       "      <td>-</td>\n",
       "      <td>-</td>\n",
       "    </tr>\n",
       "    <tr>\n",
       "      <th>tags</th>\n",
       "      <td>Yes</td>\n",
       "      <td>-</td>\n",
       "      <td>-</td>\n",
       "      <td>-</td>\n",
       "      <td>-</td>\n",
       "      <td>-</td>\n",
       "      <td>-</td>\n",
       "      <td>-</td>\n",
       "      <td>-</td>\n",
       "      <td>-</td>\n",
       "      <td>...</td>\n",
       "      <td>-</td>\n",
       "      <td>-</td>\n",
       "      <td>-</td>\n",
       "      <td>-</td>\n",
       "      <td>-</td>\n",
       "      <td>-</td>\n",
       "      <td>-</td>\n",
       "      <td>-</td>\n",
       "      <td>-</td>\n",
       "      <td>-</td>\n",
       "    </tr>\n",
       "    <tr>\n",
       "      <th>users</th>\n",
       "      <td>Yes</td>\n",
       "      <td>Yes</td>\n",
       "      <td>-</td>\n",
       "      <td>-</td>\n",
       "      <td>-</td>\n",
       "      <td>-</td>\n",
       "      <td>-</td>\n",
       "      <td>-</td>\n",
       "      <td>-</td>\n",
       "      <td>-</td>\n",
       "      <td>...</td>\n",
       "      <td>Yes</td>\n",
       "      <td>Yes</td>\n",
       "      <td>Yes</td>\n",
       "      <td>Yes</td>\n",
       "      <td>Yes</td>\n",
       "      <td>Yes</td>\n",
       "      <td>Yes</td>\n",
       "      <td>Yes</td>\n",
       "      <td>Yes</td>\n",
       "      <td>-</td>\n",
       "    </tr>\n",
       "    <tr>\n",
       "      <th>votes</th>\n",
       "      <td>Yes</td>\n",
       "      <td>Yes</td>\n",
       "      <td>Yes</td>\n",
       "      <td>-</td>\n",
       "      <td>-</td>\n",
       "      <td>-</td>\n",
       "      <td>-</td>\n",
       "      <td>-</td>\n",
       "      <td>-</td>\n",
       "      <td>-</td>\n",
       "      <td>...</td>\n",
       "      <td>-</td>\n",
       "      <td>-</td>\n",
       "      <td>-</td>\n",
       "      <td>-</td>\n",
       "      <td>-</td>\n",
       "      <td>-</td>\n",
       "      <td>-</td>\n",
       "      <td>-</td>\n",
       "      <td>-</td>\n",
       "      <td>Yes</td>\n",
       "    </tr>\n",
       "  </tbody>\n",
       "</table>\n",
       "<p>8 rows × 44 columns</p>\n",
       "</div>"
      ],
      "text/plain": [
       "              Id CreationDate PostId UserId ContentLicense Score Text Name  \\\n",
       "badges       Yes            -      -    Yes              -     -    -  Yes   \n",
       "comments     Yes          Yes    Yes    Yes            Yes   Yes  Yes    -   \n",
       "posthistory  Yes          Yes    Yes    Yes            Yes     -  Yes    -   \n",
       "postlinks    Yes          Yes    Yes      -              -     -    -    -   \n",
       "posts        Yes          Yes      -      -            Yes   Yes    -    -   \n",
       "tags         Yes            -      -      -              -     -    -    -   \n",
       "users        Yes          Yes      -      -              -     -    -    -   \n",
       "votes        Yes          Yes    Yes      -              -     -    -    -   \n",
       "\n",
       "            Date Class  ... DisplayName LastAccessDate Location AboutMe Views  \\\n",
       "badges       Yes   Yes  ...           -              -        -       -     -   \n",
       "comments       -     -  ...           -              -        -       -     -   \n",
       "posthistory    -     -  ...           -              -        -       -     -   \n",
       "postlinks      -     -  ...           -              -        -       -     -   \n",
       "posts          -     -  ...           -              -        -       -     -   \n",
       "tags           -     -  ...           -              -        -       -     -   \n",
       "users          -     -  ...         Yes            Yes      Yes     Yes   Yes   \n",
       "votes          -     -  ...           -              -        -       -     -   \n",
       "\n",
       "            UpVotes DownVotes ProfileImageUrl AccountId VoteTypeId  \n",
       "badges            -         -               -         -          -  \n",
       "comments          -         -               -         -          -  \n",
       "posthistory       -         -               -         -          -  \n",
       "postlinks         -         -               -         -          -  \n",
       "posts             -         -               -         -          -  \n",
       "tags              -         -               -         -          -  \n",
       "users           Yes       Yes             Yes       Yes          -  \n",
       "votes             -         -               -         -        Yes  \n",
       "\n",
       "[8 rows x 44 columns]"
      ]
     },
     "execution_count": 30,
     "metadata": {},
     "output_type": "execute_result"
    }
   ],
   "source": [
    "data"
   ]
  },
  {
   "cell_type": "code",
   "execution_count": 31,
   "metadata": {},
   "outputs": [],
   "source": [
    "data.to_excel(\"output.xlsx\")  "
   ]
  },
  {
   "cell_type": "markdown",
   "metadata": {},
   "source": [
    "### PART 2"
   ]
  },
  {
   "cell_type": "code",
   "execution_count": 32,
   "metadata": {},
   "outputs": [
    {
     "name": "stdout",
     "output_type": "stream",
     "text": [
      "Number of entries: 120125\n",
      "----------------------\n",
      "Number of badges: 78\n",
      "----------------------\n",
      "{'Autobiographer': 29681, 'Supporter': 17043, 'Student': 13787, 'Editor': 9131, 'Informed': 7275, 'Scholar': 6259, 'Popular Question': 6080, 'Teacher': 5614, 'Yearling': 3372, 'Notable Question': 3321, 'Tumbleweed': 2783, 'Custodian': 2391, 'Commentator': 1144, 'Nice Answer': 1090, 'Famous Question': 960, 'Revival': 949, 'Nice Question': 936, 'Critic': 840, 'Citizen Patrol': 792, 'Necromancer': 544, 'Curious': 486, 'Excavator': 467, 'Caucus': 434, 'Organizer': 393, 'Enthusiast': 381, 'Enlightened': 373, 'Promoter': 368, 'Good Answer': 257, 'Announcer': 225, 'Good Question': 218, 'Explainer': 217, 'Constituent': 184, 'Benefactor': 163, 'Quorum': 151, 'Suffrage': 137, 'Self-Learner': 137, 'Fanatic': 129, 'Precognitive': 123, 'Vox Populi': 107, 'Cleanup': 105, 'Taxonomist': 92, 'Favorite Question': 83, 'Tag Editor': 76, 'Guru': 72, 'Reviewer': 64, 'Tenacious': 63, 'Civic Duty': 62, 'Peer Pressure': 49, 'Disciplined': 36, 'Steward': 35, 'Investor': 35, 'Booster': 28, 'Electorate': 26, 'Strunk & White': 24, 'Talkative': 22, 'Proofreader': 22, 'Great Question': 22, 'Beta': 21, 'Great Answer': 18, 'Mortarboard': 17, 'Altruist': 17, 'Deputy': 13, 'Unsung Hero': 13, 'Stellar Question': 11, 'Publicist': 10, 'Populist': 8, 'Generalist': 8, 'Convention': 6, 'Constable': 6, 'Synonymizer': 6, 'Lifejacket': 5, 'Inquisitive': 4, 'Copy Editor': 3, 'Sheriff': 3, 'Archaeologist': 3, 'Refiner': 2, 'Sportsmanship': 1, 'Pundit': 1}\n"
     ]
    }
   ],
   "source": [
    "# use the parse() function to load and parse an XML file\n",
    "doc = xmlparser.parse(\"./datascience.stackexchange.com/Badges.xml\");\n",
    "\n",
    "# get a list of XML tags from the document and print each one\n",
    "row = doc.getElementsByTagName(\"row\")\n",
    "print (f\"Number of entries: {row.length}\")\n",
    "\n",
    "lst_badge={}\n",
    "for skill in row:\n",
    "    badge=(skill.getAttribute(\"Name\"))\n",
    "    user=(skill.getAttribute(\"UserId\"))\n",
    "    bool=(skill.getAttribute(\"TagBased\"))\n",
    "    if bool==\"False\":\n",
    "        lst_badge[badge] = lst_badge.get(badge, 0) + 1\n",
    "\n",
    "lst_badge=dict(sorted(lst_badge.items(), key=lambda item: item[1],reverse=True))\n",
    "print(\"----------------------\")\n",
    "print(f\"Number of badges: {len(lst_badge)}\")\n",
    "print(\"----------------------\")\n",
    "print(lst_badge)"
   ]
  },
  {
   "cell_type": "markdown",
   "metadata": {},
   "source": [
    "### PART 3"
   ]
  },
  {
   "cell_type": "markdown",
   "metadata": {},
   "source": [
    "##### Part 3A"
   ]
  },
  {
   "cell_type": "markdown",
   "metadata": {},
   "source": [
    "A mapreduce job was used to generate **tag_pop.txt**(sorted alphabetically) and **tag_pop2.txt**(sorted according to count) that contains all the information about tag popularity.\n"
   ]
  },
  {
   "cell_type": "code",
   "execution_count": 33,
   "metadata": {},
   "outputs": [
    {
     "data": {
      "image/png": "[encoded data removed]",
      "text/plain": [
       "<Figure size 1440x720 with 1 Axes>"
      ]
     },
     "metadata": {
      "needs_background": "light"
     },
     "output_type": "display_data"
    }
   ],
   "source": [
    "import matplotlib.pyplot as plt\n",
    "  \n",
    "tag = []\n",
    "popular = []\n",
    "  \n",
    "f = open('Part3/tag_pop.txt','r')\n",
    "for row in f:\n",
    "    row = row.split('\\t')\n",
    "    tag.append(row[0])\n",
    "    popular.append(int(row[1]))\n",
    "\n",
    "plt.figure(figsize=(20,10))\n",
    "plt.bar(tag, popular, color = 'r', label = 'Tags')\n",
    "  \n",
    "plt.ylabel('Posts used', fontsize = 12)\n",
    "plt.xticks([])\n",
    "  \n",
    "plt.title('Popularity of Tags', fontsize = 20)\n",
    "plt.legend()\n",
    "plt.show()\n",
    "f.close()"
   ]
  },
  {
   "cell_type": "markdown",
   "metadata": {},
   "source": [
    "Due to large number of columns the data isn't visually pleasing so in the next cell we consider the top 10 tags."
   ]
  },
  {
   "cell_type": "code",
   "execution_count": 34,
   "metadata": {},
   "outputs": [
    {
     "name": "stderr",
     "output_type": "stream",
     "text": [
      "D:\\Software\\Anaconda\\envs\\datascience\\lib\\site-packages\\matplotlib\\backends\\backend_agg.py:238: RuntimeWarning: Glyph 9 missing from current font.\n",
      "  font.set_text(s, 0.0, flags=flags)\n",
      "D:\\Software\\Anaconda\\envs\\datascience\\lib\\site-packages\\matplotlib\\backends\\backend_agg.py:201: RuntimeWarning: Glyph 9 missing from current font.\n",
      "  font.set_text(s, 0, flags=flags)\n"
     ]
    },
    {
     "data": {
      "image/png": "[encoded data removed]",
      "text/plain": [
       "<Figure size 1440x576 with 1 Axes>"
      ]
     },
     "metadata": {
      "needs_background": "light"
     },
     "output_type": "display_data"
    }
   ],
   "source": [
    "import matplotlib.pyplot as plt\n",
    "  \n",
    "tag = []\n",
    "popular = []\n",
    "  \n",
    "f = open('Part3/tag_pop2.txt','r')\n",
    "count=0\n",
    "for row in f:\n",
    "    count+=1\n",
    "    row = row.strip()\n",
    "    row = row.split(' ')\n",
    "    tag.append(row[1])\n",
    "    popular.append(int(row[0]))\n",
    "    if count==10:\n",
    "        break\n",
    "\n",
    "plt.figure(figsize=(20,8))\n",
    "plt.bar(tag, popular, color = 'g', label = 'Tag')\n",
    "  \n",
    "plt.xlabel('Tags', fontsize = 1)\n",
    "plt.ylabel('Posts used', fontsize = 12)\n",
    "  \n",
    "plt.title('Popularity of Tags', fontsize = 20)\n",
    "plt.legend()\n",
    "plt.show()\n",
    "f.close()"
   ]
  },
  {
   "cell_type": "markdown",
   "metadata": {},
   "source": [
    "The cell below shows the data in a dataframe."
   ]
  },
  {
   "cell_type": "code",
   "execution_count": 35,
   "metadata": {},
   "outputs": [
    {
     "data": {
      "text/html": [
       "<div>\n",
       "<style scoped>\n",
       "    .dataframe tbody tr th:only-of-type {\n",
       "        vertical-align: middle;\n",
       "    }\n",
       "\n",
       "    .dataframe tbody tr th {\n",
       "        vertical-align: top;\n",
       "    }\n",
       "\n",
       "    .dataframe thead th {\n",
       "        text-align: right;\n",
       "    }\n",
       "</style>\n",
       "<table border=\"1\" class=\"dataframe\">\n",
       "  <thead>\n",
       "    <tr style=\"text-align: right;\">\n",
       "      <th></th>\n",
       "      <th>No. of posts</th>\n",
       "    </tr>\n",
       "    <tr>\n",
       "      <th>Tag Name</th>\n",
       "      <th></th>\n",
       "    </tr>\n",
       "  </thead>\n",
       "  <tbody>\n",
       "    <tr>\n",
       "      <th>machine-learning</th>\n",
       "      <td>9519</td>\n",
       "    </tr>\n",
       "    <tr>\n",
       "      <th>python</th>\n",
       "      <td>5604</td>\n",
       "    </tr>\n",
       "    <tr>\n",
       "      <th>deep-learning</th>\n",
       "      <td>4079</td>\n",
       "    </tr>\n",
       "    <tr>\n",
       "      <th>neural-network</th>\n",
       "      <td>3857</td>\n",
       "    </tr>\n",
       "    <tr>\n",
       "      <th>classification</th>\n",
       "      <td>2712</td>\n",
       "    </tr>\n",
       "    <tr>\n",
       "      <th>...</th>\n",
       "      <td>...</td>\n",
       "    </tr>\n",
       "    <tr>\n",
       "      <th>clickstream</th>\n",
       "      <td>1</td>\n",
       "    </tr>\n",
       "    <tr>\n",
       "      <th>best-practice</th>\n",
       "      <td>1</td>\n",
       "    </tr>\n",
       "    <tr>\n",
       "      <th>bathymetry</th>\n",
       "      <td>1</td>\n",
       "    </tr>\n",
       "    <tr>\n",
       "      <th>automatic-differentiation</th>\n",
       "      <td>1</td>\n",
       "    </tr>\n",
       "    <tr>\n",
       "      <th>apollo</th>\n",
       "      <td>1</td>\n",
       "    </tr>\n",
       "  </tbody>\n",
       "</table>\n",
       "<p>648 rows × 1 columns</p>\n",
       "</div>"
      ],
      "text/plain": [
       "                           No. of posts\n",
       "Tag Name                               \n",
       "machine-learning                   9519\n",
       "python                             5604\n",
       "deep-learning                      4079\n",
       "neural-network                     3857\n",
       "classification                     2712\n",
       "...                                 ...\n",
       "clickstream                           1\n",
       "best-practice                         1\n",
       "bathymetry                            1\n",
       "automatic-differentiation             1\n",
       "apollo                                1\n",
       "\n",
       "[648 rows x 1 columns]"
      ]
     },
     "execution_count": 35,
     "metadata": {},
     "output_type": "execute_result"
    }
   ],
   "source": [
    "import pandas as pd\n",
    "\n",
    "tag=[]\n",
    "popular=[]\n",
    "f = open('Part3/tag_pop2.txt','r')\n",
    "for row in f:\n",
    "    row = row.strip()\n",
    "    row = row.split(' ')\n",
    "    tag.append(row[1][:-2])\n",
    "    popular.append(int(row[0]))\n",
    "f.close()\n",
    "\n",
    "df = pd.DataFrame(popular, index =tag,columns =['No. of posts'])\n",
    "df.index.name = 'Tag Name'\n",
    "df\n"
   ]
  },
  {
   "cell_type": "markdown",
   "metadata": {},
   "source": [
    "##### PART 3B"
   ]
  },
  {
   "cell_type": "markdown",
   "metadata": {},
   "source": [
    "A mapreduce job was used to generate **post_view.txt** that contains information about _**post_count**,**Number of posts with that post_count**, **List of the post_ids**_ of those posts."
   ]
  },
  {
   "cell_type": "code",
   "execution_count": 36,
   "metadata": {},
   "outputs": [],
   "source": [
    "views=[]\n",
    "count=[]\n",
    "post_id=[]\n",
    "\n",
    "fo = open('Part3/post_view.txt','r')\n",
    "for row in fo:\n",
    "    row = row.strip()\n",
    "    row = row.split('\\t')\n",
    "    try:\n",
    "        post_id.append(row[2])\n",
    "        views.append(int(row[0]))\n",
    "        count.append(int(row[1]))\n",
    "    except:\n",
    "        continue\n",
    "fo.close()\n",
    "data={ 'ViewCount':views,'Number_of_posts':count,'Post_id':post_id}\n",
    "data_post=pd.DataFrame(data)"
   ]
  },
  {
   "cell_type": "code",
   "execution_count": 37,
   "metadata": {
    "scrolled": true
   },
   "outputs": [
    {
     "data": {
      "text/html": [
       "<div>\n",
       "<style scoped>\n",
       "    .dataframe tbody tr th:only-of-type {\n",
       "        vertical-align: middle;\n",
       "    }\n",
       "\n",
       "    .dataframe tbody tr th {\n",
       "        vertical-align: top;\n",
       "    }\n",
       "\n",
       "    .dataframe thead th {\n",
       "        text-align: right;\n",
       "    }\n",
       "</style>\n",
       "<table border=\"1\" class=\"dataframe\">\n",
       "  <thead>\n",
       "    <tr style=\"text-align: right;\">\n",
       "      <th></th>\n",
       "      <th>ViewCount</th>\n",
       "      <th>Number_of_posts</th>\n",
       "      <th>Post_id</th>\n",
       "    </tr>\n",
       "  </thead>\n",
       "  <tbody>\n",
       "    <tr>\n",
       "      <th>0</th>\n",
       "      <td>323031</td>\n",
       "      <td>1</td>\n",
       "      <td>[11928]</td>\n",
       "    </tr>\n",
       "    <tr>\n",
       "      <th>1</th>\n",
       "      <td>308776</td>\n",
       "      <td>1</td>\n",
       "      <td>[893]</td>\n",
       "    </tr>\n",
       "    <tr>\n",
       "      <th>2</th>\n",
       "      <td>302370</td>\n",
       "      <td>1</td>\n",
       "      <td>[13490]</td>\n",
       "    </tr>\n",
       "    <tr>\n",
       "      <th>3</th>\n",
       "      <td>297010</td>\n",
       "      <td>1</td>\n",
       "      <td>[12321]</td>\n",
       "    </tr>\n",
       "    <tr>\n",
       "      <th>4</th>\n",
       "      <td>281109</td>\n",
       "      <td>1</td>\n",
       "      <td>[33053]</td>\n",
       "    </tr>\n",
       "    <tr>\n",
       "      <th>...</th>\n",
       "      <td>...</td>\n",
       "      <td>...</td>\n",
       "      <td>...</td>\n",
       "    </tr>\n",
       "    <tr>\n",
       "      <th>5078</th>\n",
       "      <td>20</td>\n",
       "      <td>279</td>\n",
       "      <td>[100014, 100021, 100038, 100114, 100143, 10031...</td>\n",
       "    </tr>\n",
       "    <tr>\n",
       "      <th>5079</th>\n",
       "      <td>19</td>\n",
       "      <td>283</td>\n",
       "      <td>[100029, 100120, 100146, 100207, 100225, 10023...</td>\n",
       "    </tr>\n",
       "    <tr>\n",
       "      <th>5080</th>\n",
       "      <td>23</td>\n",
       "      <td>284</td>\n",
       "      <td>[100220, 100233, 100235, 100483, 100584, 10058...</td>\n",
       "    </tr>\n",
       "    <tr>\n",
       "      <th>5081</th>\n",
       "      <td>17</td>\n",
       "      <td>287</td>\n",
       "      <td>[100043, 100319, 100357, 100369, 100386, 10048...</td>\n",
       "    </tr>\n",
       "    <tr>\n",
       "      <th>5082</th>\n",
       "      <td>22</td>\n",
       "      <td>296</td>\n",
       "      <td>[100047, 100070, 100073, 100087, 100199, 10025...</td>\n",
       "    </tr>\n",
       "  </tbody>\n",
       "</table>\n",
       "<p>5083 rows × 3 columns</p>\n",
       "</div>"
      ],
      "text/plain": [
       "      ViewCount  Number_of_posts  \\\n",
       "0        323031                1   \n",
       "1        308776                1   \n",
       "2        302370                1   \n",
       "3        297010                1   \n",
       "4        281109                1   \n",
       "...         ...              ...   \n",
       "5078         20              279   \n",
       "5079         19              283   \n",
       "5080         23              284   \n",
       "5081         17              287   \n",
       "5082         22              296   \n",
       "\n",
       "                                                Post_id  \n",
       "0                                               [11928]  \n",
       "1                                                 [893]  \n",
       "2                                               [13490]  \n",
       "3                                               [12321]  \n",
       "4                                               [33053]  \n",
       "...                                                 ...  \n",
       "5078  [100014, 100021, 100038, 100114, 100143, 10031...  \n",
       "5079  [100029, 100120, 100146, 100207, 100225, 10023...  \n",
       "5080  [100220, 100233, 100235, 100483, 100584, 10058...  \n",
       "5081  [100043, 100319, 100357, 100369, 100386, 10048...  \n",
       "5082  [100047, 100070, 100073, 100087, 100199, 10025...  \n",
       "\n",
       "[5083 rows x 3 columns]"
      ]
     },
     "execution_count": 37,
     "metadata": {},
     "output_type": "execute_result"
    }
   ],
   "source": [
    "data_post"
   ]
  },
  {
   "cell_type": "markdown",
   "metadata": {},
   "source": [
    "A broad analysis reveals that number of posts are less for posts with extremely high/low viewcount. "
   ]
  },
  {
   "cell_type": "code",
   "execution_count": 38,
   "metadata": {},
   "outputs": [
    {
     "data": {
      "image/png": "[encoded data removed]",
      "text/plain": [
       "<Figure size 1152x432 with 1 Axes>"
      ]
     },
     "metadata": {
      "needs_background": "light"
     },
     "output_type": "display_data"
    }
   ],
   "source": [
    "import numpy as np\n",
    "import seaborn as sns\n",
    "import matplotlib.pyplot as plt\n",
    " \n",
    "plt.figure(figsize=(16,6))\n",
    "sns.lineplot(x=data_post[\"ViewCount\"],y=data_post[\"Number_of_posts\"])\n",
    "plt.xlim(0,5000)\n",
    "plt.show()"
   ]
  },
  {
   "cell_type": "markdown",
   "metadata": {},
   "source": [
    "A tighter look at the range x=[0,500] we can clearly see our distribution. The value peaks at x=22 that is 296 posts have 22 views as seen in the dataframe named **data_post** above. The views on the posts increase till views are 22 after that higher views means lesser posts."
   ]
  },
  {
   "cell_type": "code",
   "execution_count": 39,
   "metadata": {},
   "outputs": [
    {
     "data": {
      "image/png": "[encoded data removed]",
      "text/plain": [
       "<Figure size 1152x432 with 1 Axes>"
      ]
     },
     "metadata": {
      "needs_background": "light"
     },
     "output_type": "display_data"
    }
   ],
   "source": [
    "import numpy as np\n",
    "import seaborn as sns\n",
    "import matplotlib.pyplot as plt\n",
    " \n",
    "plt.figure(figsize=(16,6))\n",
    "sns.lineplot(x=data_post[\"ViewCount\"],y=data_post[\"Number_of_posts\"])\n",
    "plt.xlim(0,500)\n",
    "plt.show()"
   ]
  },
  {
   "cell_type": "markdown",
   "metadata": {},
   "source": [
    "Let us look at the top 10 posts. The following dataframe shows the top 10 posts and their ids which can be used to identify them in the **_posts.xml_**. I did not send post title and body in mapper and reducer to reduce communication cost instead sent post_id."
   ]
  },
  {
   "cell_type": "code",
   "execution_count": 40,
   "metadata": {},
   "outputs": [
    {
     "data": {
      "text/html": [
       "<div>\n",
       "<style scoped>\n",
       "    .dataframe tbody tr th:only-of-type {\n",
       "        vertical-align: middle;\n",
       "    }\n",
       "\n",
       "    .dataframe tbody tr th {\n",
       "        vertical-align: top;\n",
       "    }\n",
       "\n",
       "    .dataframe thead th {\n",
       "        text-align: right;\n",
       "    }\n",
       "</style>\n",
       "<table border=\"1\" class=\"dataframe\">\n",
       "  <thead>\n",
       "    <tr style=\"text-align: right;\">\n",
       "      <th></th>\n",
       "      <th>ViewCount</th>\n",
       "      <th>Post_id</th>\n",
       "    </tr>\n",
       "  </thead>\n",
       "  <tbody>\n",
       "    <tr>\n",
       "      <th>0</th>\n",
       "      <td>323031</td>\n",
       "      <td>[11928]</td>\n",
       "    </tr>\n",
       "    <tr>\n",
       "      <th>1</th>\n",
       "      <td>308776</td>\n",
       "      <td>[893]</td>\n",
       "    </tr>\n",
       "    <tr>\n",
       "      <th>2</th>\n",
       "      <td>302370</td>\n",
       "      <td>[13490]</td>\n",
       "    </tr>\n",
       "    <tr>\n",
       "      <th>3</th>\n",
       "      <td>297010</td>\n",
       "      <td>[12321]</td>\n",
       "    </tr>\n",
       "    <tr>\n",
       "      <th>4</th>\n",
       "      <td>281109</td>\n",
       "      <td>[33053]</td>\n",
       "    </tr>\n",
       "    <tr>\n",
       "      <th>5</th>\n",
       "      <td>254549</td>\n",
       "      <td>[15989]</td>\n",
       "    </tr>\n",
       "    <tr>\n",
       "      <th>6</th>\n",
       "      <td>253123</td>\n",
       "      <td>[20199]</td>\n",
       "    </tr>\n",
       "    <tr>\n",
       "      <th>7</th>\n",
       "      <td>247600</td>\n",
       "      <td>[22]</td>\n",
       "    </tr>\n",
       "    <tr>\n",
       "      <th>8</th>\n",
       "      <td>240803</td>\n",
       "      <td>[14899]</td>\n",
       "    </tr>\n",
       "    <tr>\n",
       "      <th>9</th>\n",
       "      <td>239698</td>\n",
       "      <td>[6107]</td>\n",
       "    </tr>\n",
       "  </tbody>\n",
       "</table>\n",
       "</div>"
      ],
      "text/plain": [
       "   ViewCount  Post_id\n",
       "0     323031  [11928]\n",
       "1     308776    [893]\n",
       "2     302370  [13490]\n",
       "3     297010  [12321]\n",
       "4     281109  [33053]\n",
       "5     254549  [15989]\n",
       "6     253123  [20199]\n",
       "7     247600     [22]\n",
       "8     240803  [14899]\n",
       "9     239698   [6107]"
      ]
     },
     "execution_count": 40,
     "metadata": {},
     "output_type": "execute_result"
    }
   ],
   "source": [
    "top10=data_post[[\"ViewCount\",\"Post_id\"]].head(10)\n",
    "top10"
   ]
  },
  {
   "cell_type": "code",
   "execution_count": 41,
   "metadata": {},
   "outputs": [],
   "source": [
    "import re\n",
    "clean_post_id=[]\n",
    "pattern = re.compile(r'\\[(.*)\\]') \n",
    "for ele in post_id[:10]: \n",
    "    match = pattern.match(ele)\n",
    "    clean_post_id.append(int(match.group(1)))\n",
    "clean_id=pd.Series(clean_post_id)\n",
    "top10[\"clean_post_id\"]=clean_id"
   ]
  },
  {
   "cell_type": "code",
   "execution_count": 42,
   "metadata": {},
   "outputs": [
    {
     "data": {
      "text/html": [
       "<div>\n",
       "<style scoped>\n",
       "    .dataframe tbody tr th:only-of-type {\n",
       "        vertical-align: middle;\n",
       "    }\n",
       "\n",
       "    .dataframe tbody tr th {\n",
       "        vertical-align: top;\n",
       "    }\n",
       "\n",
       "    .dataframe thead th {\n",
       "        text-align: right;\n",
       "    }\n",
       "</style>\n",
       "<table border=\"1\" class=\"dataframe\">\n",
       "  <thead>\n",
       "    <tr style=\"text-align: right;\">\n",
       "      <th></th>\n",
       "      <th>ViewCount</th>\n",
       "      <th>Post_id</th>\n",
       "      <th>clean_post_id</th>\n",
       "    </tr>\n",
       "  </thead>\n",
       "  <tbody>\n",
       "    <tr>\n",
       "      <th>0</th>\n",
       "      <td>323031</td>\n",
       "      <td>[11928]</td>\n",
       "      <td>11928</td>\n",
       "    </tr>\n",
       "    <tr>\n",
       "      <th>1</th>\n",
       "      <td>308776</td>\n",
       "      <td>[893]</td>\n",
       "      <td>893</td>\n",
       "    </tr>\n",
       "    <tr>\n",
       "      <th>2</th>\n",
       "      <td>302370</td>\n",
       "      <td>[13490]</td>\n",
       "      <td>13490</td>\n",
       "    </tr>\n",
       "    <tr>\n",
       "      <th>3</th>\n",
       "      <td>297010</td>\n",
       "      <td>[12321]</td>\n",
       "      <td>12321</td>\n",
       "    </tr>\n",
       "    <tr>\n",
       "      <th>4</th>\n",
       "      <td>281109</td>\n",
       "      <td>[33053]</td>\n",
       "      <td>33053</td>\n",
       "    </tr>\n",
       "    <tr>\n",
       "      <th>5</th>\n",
       "      <td>254549</td>\n",
       "      <td>[15989]</td>\n",
       "      <td>15989</td>\n",
       "    </tr>\n",
       "    <tr>\n",
       "      <th>6</th>\n",
       "      <td>253123</td>\n",
       "      <td>[20199]</td>\n",
       "      <td>20199</td>\n",
       "    </tr>\n",
       "    <tr>\n",
       "      <th>7</th>\n",
       "      <td>247600</td>\n",
       "      <td>[22]</td>\n",
       "      <td>22</td>\n",
       "    </tr>\n",
       "    <tr>\n",
       "      <th>8</th>\n",
       "      <td>240803</td>\n",
       "      <td>[14899]</td>\n",
       "      <td>14899</td>\n",
       "    </tr>\n",
       "    <tr>\n",
       "      <th>9</th>\n",
       "      <td>239698</td>\n",
       "      <td>[6107]</td>\n",
       "      <td>6107</td>\n",
       "    </tr>\n",
       "  </tbody>\n",
       "</table>\n",
       "</div>"
      ],
      "text/plain": [
       "   ViewCount  Post_id  clean_post_id\n",
       "0     323031  [11928]          11928\n",
       "1     308776    [893]            893\n",
       "2     302370  [13490]          13490\n",
       "3     297010  [12321]          12321\n",
       "4     281109  [33053]          33053\n",
       "5     254549  [15989]          15989\n",
       "6     253123  [20199]          20199\n",
       "7     247600     [22]             22\n",
       "8     240803  [14899]          14899\n",
       "9     239698   [6107]           6107"
      ]
     },
     "execution_count": 42,
     "metadata": {},
     "output_type": "execute_result"
    }
   ],
   "source": [
    "top10"
   ]
  },
  {
   "cell_type": "code",
   "execution_count": 43,
   "metadata": {},
   "outputs": [],
   "source": [
    "doc_post = xmlparser.parse(\"./datascience.stackexchange.com/Posts.xml\");\n",
    "# get a list of XML tags from the document and print each one\n",
    "row_post = doc_post.getElementsByTagName(\"row\")"
   ]
  },
  {
   "cell_type": "code",
   "execution_count": 44,
   "metadata": {},
   "outputs": [],
   "source": [
    "title_lst=[\"None\"]*len(clean_post_id)\n",
    "body_lst=[\"None\"]*len(clean_post_id)\n",
    "\n",
    "for skill in row_post:\n",
    "    post_id=int(skill.getAttribute(\"Id\"))\n",
    "    title=(skill.getAttribute(\"Title\"))\n",
    "    body=(skill.getAttribute(\"Body\"))\n",
    "    if post_id in clean_post_id:\n",
    "        index=clean_post_id.index(post_id)\n",
    "        title_lst[index]=title\n",
    "        body_lst[index]=body"
   ]
  },
  {
   "cell_type": "code",
   "execution_count": 45,
   "metadata": {},
   "outputs": [],
   "source": [
    "post_title=pd.Series(title_lst)\n",
    "post_body=pd.Series(body_lst)"
   ]
  },
  {
   "cell_type": "code",
   "execution_count": 46,
   "metadata": {},
   "outputs": [],
   "source": [
    "top10[\"Title\"]=post_title\n",
    "top10[\"Body\"]=post_body\n",
    "del top10[\"Post_id\"]"
   ]
  },
  {
   "cell_type": "code",
   "execution_count": 47,
   "metadata": {},
   "outputs": [
    {
     "data": {
      "text/html": [
       "<div>\n",
       "<style scoped>\n",
       "    .dataframe tbody tr th:only-of-type {\n",
       "        vertical-align: middle;\n",
       "    }\n",
       "\n",
       "    .dataframe tbody tr th {\n",
       "        vertical-align: top;\n",
       "    }\n",
       "\n",
       "    .dataframe thead th {\n",
       "        text-align: right;\n",
       "    }\n",
       "</style>\n",
       "<table border=\"1\" class=\"dataframe\">\n",
       "  <thead>\n",
       "    <tr style=\"text-align: right;\">\n",
       "      <th></th>\n",
       "      <th>ViewCount</th>\n",
       "      <th>clean_post_id</th>\n",
       "      <th>Title</th>\n",
       "      <th>Body</th>\n",
       "    </tr>\n",
       "  </thead>\n",
       "  <tbody>\n",
       "    <tr>\n",
       "      <th>0</th>\n",
       "      <td>323031</td>\n",
       "      <td>11928</td>\n",
       "      <td>ValueError: Input contains NaN, infinity or a ...</td>\n",
       "      <td>&lt;p&gt;I got ValueError when predicting test data ...</td>\n",
       "    </tr>\n",
       "    <tr>\n",
       "      <th>1</th>\n",
       "      <td>308776</td>\n",
       "      <td>893</td>\n",
       "      <td>How to get correlation between two categorical...</td>\n",
       "      <td>&lt;p&gt;I am building a regression model and I need...</td>\n",
       "    </tr>\n",
       "    <tr>\n",
       "      <th>2</th>\n",
       "      <td>302370</td>\n",
       "      <td>13490</td>\n",
       "      <td>How to set class weights for imbalanced classe...</td>\n",
       "      <td>&lt;p&gt;I know that there is a possibility in Keras...</td>\n",
       "    </tr>\n",
       "    <tr>\n",
       "      <th>3</th>\n",
       "      <td>297010</td>\n",
       "      <td>12321</td>\n",
       "      <td>What's the difference between fit and fit_tran...</td>\n",
       "      <td>&lt;p&gt;I do not understand the difference between ...</td>\n",
       "    </tr>\n",
       "    <tr>\n",
       "      <th>4</th>\n",
       "      <td>281109</td>\n",
       "      <td>33053</td>\n",
       "      <td>How do I compare columns in different data fra...</td>\n",
       "      <td>&lt;p&gt;I would like to compare one column of a df ...</td>\n",
       "    </tr>\n",
       "    <tr>\n",
       "      <th>5</th>\n",
       "      <td>254549</td>\n",
       "      <td>15989</td>\n",
       "      <td>Micro Average vs Macro average Performance in ...</td>\n",
       "      <td>&lt;p&gt;I am trying out a multiclass classification...</td>\n",
       "    </tr>\n",
       "    <tr>\n",
       "      <th>6</th>\n",
       "      <td>253123</td>\n",
       "      <td>20199</td>\n",
       "      <td>train_test_split() error: Found input variable...</td>\n",
       "      <td>&lt;p&gt;Fairly new to Python but building out my fi...</td>\n",
       "    </tr>\n",
       "    <tr>\n",
       "      <th>7</th>\n",
       "      <td>247600</td>\n",
       "      <td>22</td>\n",
       "      <td>K-Means clustering for mixed numeric and categ...</td>\n",
       "      <td>&lt;p&gt;My data set contains a number of numeric at...</td>\n",
       "    </tr>\n",
       "    <tr>\n",
       "      <th>8</th>\n",
       "      <td>240803</td>\n",
       "      <td>14899</td>\n",
       "      <td>How to draw Deep learning network architecture...</td>\n",
       "      <td>&lt;p&gt;I have built my model. Now I want to draw t...</td>\n",
       "    </tr>\n",
       "    <tr>\n",
       "      <th>9</th>\n",
       "      <td>239698</td>\n",
       "      <td>6107</td>\n",
       "      <td>What are deconvolutional layers?</td>\n",
       "      <td>&lt;p&gt;I recently read &lt;a href=\"http://arxiv.org/a...</td>\n",
       "    </tr>\n",
       "  </tbody>\n",
       "</table>\n",
       "</div>"
      ],
      "text/plain": [
       "   ViewCount  clean_post_id  \\\n",
       "0     323031          11928   \n",
       "1     308776            893   \n",
       "2     302370          13490   \n",
       "3     297010          12321   \n",
       "4     281109          33053   \n",
       "5     254549          15989   \n",
       "6     253123          20199   \n",
       "7     247600             22   \n",
       "8     240803          14899   \n",
       "9     239698           6107   \n",
       "\n",
       "                                               Title  \\\n",
       "0  ValueError: Input contains NaN, infinity or a ...   \n",
       "1  How to get correlation between two categorical...   \n",
       "2  How to set class weights for imbalanced classe...   \n",
       "3  What's the difference between fit and fit_tran...   \n",
       "4  How do I compare columns in different data fra...   \n",
       "5  Micro Average vs Macro average Performance in ...   \n",
       "6  train_test_split() error: Found input variable...   \n",
       "7  K-Means clustering for mixed numeric and categ...   \n",
       "8  How to draw Deep learning network architecture...   \n",
       "9                   What are deconvolutional layers?   \n",
       "\n",
       "                                                Body  \n",
       "0  <p>I got ValueError when predicting test data ...  \n",
       "1  <p>I am building a regression model and I need...  \n",
       "2  <p>I know that there is a possibility in Keras...  \n",
       "3  <p>I do not understand the difference between ...  \n",
       "4  <p>I would like to compare one column of a df ...  \n",
       "5  <p>I am trying out a multiclass classification...  \n",
       "6  <p>Fairly new to Python but building out my fi...  \n",
       "7  <p>My data set contains a number of numeric at...  \n",
       "8  <p>I have built my model. Now I want to draw t...  \n",
       "9  <p>I recently read <a href=\"http://arxiv.org/a...  "
      ]
     },
     "execution_count": 47,
     "metadata": {},
     "output_type": "execute_result"
    }
   ],
   "source": [
    "top10"
   ]
  },
  {
   "cell_type": "markdown",
   "metadata": {},
   "source": [
    "Now that we have obtained a dataframe of Top 10 of the posts.xml. We can extract data according to our needs.  "
   ]
  },
  {
   "cell_type": "markdown",
   "metadata": {},
   "source": [
    "##### PART 3C"
   ]
  },
  {
   "cell_type": "markdown",
   "metadata": {},
   "source": [
    "A mapreduce job was used to generate **post_hour.txt** that contains information about _**hour_of_the_day**_,_**post_count**_."
   ]
  },
  {
   "cell_type": "code",
   "execution_count": 48,
   "metadata": {},
   "outputs": [],
   "source": [
    "hours=[]\n",
    "counts=[]\n",
    "\n",
    "fl = open('Part3/post_hour.txt','r')\n",
    "for row in fl:\n",
    "    row = row.strip()\n",
    "    hour,count = row.split('\\t')\n",
    "    hours.append(int(hour))\n",
    "    counts.append(int(count))\n",
    "fl.close()\n",
    "\n",
    "hour_data={'Hour_of_the_Day':hours,'Number_of_posts':counts}\n",
    "data_hour=pd.DataFrame(hour_data)\n",
    "data_hour.set_index(data_hour[\"Hour_of_the_Day\"])\n",
    "del data_hour[\"Hour_of_the_Day\"]\n",
    "data_hour.index.name=\"Hour_of_the_Day\""
   ]
  },
  {
   "cell_type": "markdown",
   "metadata": {},
   "source": [
    "The following dataframe shows us the total number of posts posted at the specific hour throughout the period of May 2014 to Sep 2021."
   ]
  },
  {
   "cell_type": "code",
   "execution_count": 49,
   "metadata": {},
   "outputs": [
    {
     "data": {
      "text/html": [
       "<div>\n",
       "<style scoped>\n",
       "    .dataframe tbody tr th:only-of-type {\n",
       "        vertical-align: middle;\n",
       "    }\n",
       "\n",
       "    .dataframe tbody tr th {\n",
       "        vertical-align: top;\n",
       "    }\n",
       "\n",
       "    .dataframe thead th {\n",
       "        text-align: right;\n",
       "    }\n",
       "</style>\n",
       "<table border=\"1\" class=\"dataframe\">\n",
       "  <thead>\n",
       "    <tr style=\"text-align: right;\">\n",
       "      <th></th>\n",
       "      <th>Number_of_posts</th>\n",
       "    </tr>\n",
       "    <tr>\n",
       "      <th>Hour_of_the_Day</th>\n",
       "      <th></th>\n",
       "    </tr>\n",
       "  </thead>\n",
       "  <tbody>\n",
       "    <tr>\n",
       "      <th>0</th>\n",
       "      <td>1435</td>\n",
       "    </tr>\n",
       "    <tr>\n",
       "      <th>1</th>\n",
       "      <td>1364</td>\n",
       "    </tr>\n",
       "    <tr>\n",
       "      <th>2</th>\n",
       "      <td>1346</td>\n",
       "    </tr>\n",
       "    <tr>\n",
       "      <th>3</th>\n",
       "      <td>1411</td>\n",
       "    </tr>\n",
       "    <tr>\n",
       "      <th>4</th>\n",
       "      <td>1751</td>\n",
       "    </tr>\n",
       "    <tr>\n",
       "      <th>5</th>\n",
       "      <td>2447</td>\n",
       "    </tr>\n",
       "    <tr>\n",
       "      <th>6</th>\n",
       "      <td>2836</td>\n",
       "    </tr>\n",
       "    <tr>\n",
       "      <th>7</th>\n",
       "      <td>3145</td>\n",
       "    </tr>\n",
       "    <tr>\n",
       "      <th>8</th>\n",
       "      <td>3541</td>\n",
       "    </tr>\n",
       "    <tr>\n",
       "      <th>9</th>\n",
       "      <td>3505</td>\n",
       "    </tr>\n",
       "    <tr>\n",
       "      <th>10</th>\n",
       "      <td>3281</td>\n",
       "    </tr>\n",
       "    <tr>\n",
       "      <th>11</th>\n",
       "      <td>3480</td>\n",
       "    </tr>\n",
       "    <tr>\n",
       "      <th>12</th>\n",
       "      <td>3726</td>\n",
       "    </tr>\n",
       "    <tr>\n",
       "      <th>13</th>\n",
       "      <td>3909</td>\n",
       "    </tr>\n",
       "    <tr>\n",
       "      <th>14</th>\n",
       "      <td>3916</td>\n",
       "    </tr>\n",
       "    <tr>\n",
       "      <th>15</th>\n",
       "      <td>3593</td>\n",
       "    </tr>\n",
       "    <tr>\n",
       "      <th>16</th>\n",
       "      <td>3456</td>\n",
       "    </tr>\n",
       "    <tr>\n",
       "      <th>17</th>\n",
       "      <td>3016</td>\n",
       "    </tr>\n",
       "    <tr>\n",
       "      <th>18</th>\n",
       "      <td>2983</td>\n",
       "    </tr>\n",
       "    <tr>\n",
       "      <th>19</th>\n",
       "      <td>2761</td>\n",
       "    </tr>\n",
       "    <tr>\n",
       "      <th>20</th>\n",
       "      <td>2537</td>\n",
       "    </tr>\n",
       "    <tr>\n",
       "      <th>21</th>\n",
       "      <td>2108</td>\n",
       "    </tr>\n",
       "    <tr>\n",
       "      <th>22</th>\n",
       "      <td>1738</td>\n",
       "    </tr>\n",
       "  </tbody>\n",
       "</table>\n",
       "</div>"
      ],
      "text/plain": [
       "                 Number_of_posts\n",
       "Hour_of_the_Day                 \n",
       "0                           1435\n",
       "1                           1364\n",
       "2                           1346\n",
       "3                           1411\n",
       "4                           1751\n",
       "5                           2447\n",
       "6                           2836\n",
       "7                           3145\n",
       "8                           3541\n",
       "9                           3505\n",
       "10                          3281\n",
       "11                          3480\n",
       "12                          3726\n",
       "13                          3909\n",
       "14                          3916\n",
       "15                          3593\n",
       "16                          3456\n",
       "17                          3016\n",
       "18                          2983\n",
       "19                          2761\n",
       "20                          2537\n",
       "21                          2108\n",
       "22                          1738"
      ]
     },
     "execution_count": 49,
     "metadata": {},
     "output_type": "execute_result"
    }
   ],
   "source": [
    "data_hour"
   ]
  },
  {
   "cell_type": "code",
   "execution_count": 50,
   "metadata": {},
   "outputs": [
    {
     "data": {
      "image/png": "[encoded data removed]",
      "text/plain": [
       "<Figure size 1152x432 with 1 Axes>"
      ]
     },
     "metadata": {
      "needs_background": "light"
     },
     "output_type": "display_data"
    }
   ],
   "source": [
    "import numpy as np\n",
    "import seaborn as sns\n",
    "import matplotlib.pyplot as plt\n",
    " \n",
    "plt.figure(figsize=(16,6))\n",
    "sns.lineplot(x=data_hour.index.values,y=data_hour[\"Number_of_posts\"])\n",
    "plt.xlim(0,25)\n",
    "plt.xlabel(\"Hour of Day\")\n",
    "plt.show()"
   ]
  },
  {
   "cell_type": "markdown",
   "metadata": {},
   "source": [
    "The plot clearly shows that on average post activity rises from midnight to around 9hours and then dips till 1000 hours then again rises to peak at around 1400 hours and then finally starts decreasing until the next day."
   ]
  },
  {
   "cell_type": "code",
   "execution_count": 51,
   "metadata": {},
   "outputs": [],
   "source": [
    "max_value = data_hour[\"Number_of_posts\"]. max()\n",
    "max_index = data_hour[\"Number_of_posts\"].idxmax()\n",
    "\n",
    "min_value = data_hour[\"Number_of_posts\"]. min()\n",
    "min_index = data_hour[\"Number_of_posts\"].idxmin()"
   ]
  },
  {
   "cell_type": "code",
   "execution_count": 52,
   "metadata": {},
   "outputs": [],
   "source": [
    "pd.set_option(\"display.precision\", 2)\n",
    "activity = {'Hour of Day':[max_index,min_index,\"-\"],'Number of Posts':[max_value,min_value,max_value/min_value]}\n",
    "act_df = pd.DataFrame(activity, index =['Max(Peak)','Min(Trough)','Ratio(Max/Min)'])"
   ]
  },
  {
   "cell_type": "code",
   "execution_count": 53,
   "metadata": {},
   "outputs": [
    {
     "data": {
      "text/html": [
       "<div>\n",
       "<style scoped>\n",
       "    .dataframe tbody tr th:only-of-type {\n",
       "        vertical-align: middle;\n",
       "    }\n",
       "\n",
       "    .dataframe tbody tr th {\n",
       "        vertical-align: top;\n",
       "    }\n",
       "\n",
       "    .dataframe thead th {\n",
       "        text-align: right;\n",
       "    }\n",
       "</style>\n",
       "<table border=\"1\" class=\"dataframe\">\n",
       "  <thead>\n",
       "    <tr style=\"text-align: right;\">\n",
       "      <th></th>\n",
       "      <th>Hour of Day</th>\n",
       "      <th>Number of Posts</th>\n",
       "    </tr>\n",
       "  </thead>\n",
       "  <tbody>\n",
       "    <tr>\n",
       "      <th>Max(Peak)</th>\n",
       "      <td>14</td>\n",
       "      <td>3916.00</td>\n",
       "    </tr>\n",
       "    <tr>\n",
       "      <th>Min(Trough)</th>\n",
       "      <td>2</td>\n",
       "      <td>1346.00</td>\n",
       "    </tr>\n",
       "    <tr>\n",
       "      <th>Ratio(Max/Min)</th>\n",
       "      <td>-</td>\n",
       "      <td>2.91</td>\n",
       "    </tr>\n",
       "  </tbody>\n",
       "</table>\n",
       "</div>"
      ],
      "text/plain": [
       "               Hour of Day  Number of Posts\n",
       "Max(Peak)               14          3916.00\n",
       "Min(Trough)              2          1346.00\n",
       "Ratio(Max/Min)           -             2.91"
      ]
     },
     "execution_count": 53,
     "metadata": {},
     "output_type": "execute_result"
    }
   ],
   "source": [
    "act_df"
   ]
  },
  {
   "cell_type": "markdown",
   "metadata": {},
   "source": [
    "We can see that the ratio of max_activity to min-activity is 2.91. **Stack Exchange can use cloud deployment as its scalable.** So during peak hours the cloud service provider can more resources to handle the increased traffic while during off hours the resources are not reqired hence not billed for. This will save StackExchange money incase they decided to keep physical servers they will have to keep and maintain enough to just handle the peak at 1400 hours which is a waste of money."
   ]
  },
  {
   "cell_type": "markdown",
   "metadata": {},
   "source": [
    "#### PART 4"
   ]
  },
  {
   "cell_type": "code",
   "execution_count": 54,
   "metadata": {},
   "outputs": [
    {
     "data": {
      "text/html": [
       "<div>\n",
       "<style scoped>\n",
       "    .dataframe tbody tr th:only-of-type {\n",
       "        vertical-align: middle;\n",
       "    }\n",
       "\n",
       "    .dataframe tbody tr th {\n",
       "        vertical-align: top;\n",
       "    }\n",
       "\n",
       "    .dataframe thead th {\n",
       "        text-align: right;\n",
       "    }\n",
       "</style>\n",
       "<table border=\"1\" class=\"dataframe\">\n",
       "  <thead>\n",
       "    <tr style=\"text-align: right;\">\n",
       "      <th></th>\n",
       "      <th>Number_of_comments</th>\n",
       "      <th>Median_of_Comment</th>\n",
       "    </tr>\n",
       "    <tr>\n",
       "      <th>Year-Month</th>\n",
       "      <th></th>\n",
       "      <th></th>\n",
       "    </tr>\n",
       "  </thead>\n",
       "  <tbody>\n",
       "    <tr>\n",
       "      <th>2014-05</th>\n",
       "      <td>137</td>\n",
       "      <td>171</td>\n",
       "    </tr>\n",
       "    <tr>\n",
       "      <th>2014-06</th>\n",
       "      <td>366</td>\n",
       "      <td>156</td>\n",
       "    </tr>\n",
       "    <tr>\n",
       "      <th>2014-07</th>\n",
       "      <td>244</td>\n",
       "      <td>155</td>\n",
       "    </tr>\n",
       "    <tr>\n",
       "      <th>2014-08</th>\n",
       "      <td>193</td>\n",
       "      <td>152</td>\n",
       "    </tr>\n",
       "    <tr>\n",
       "      <th>2014-09</th>\n",
       "      <td>139</td>\n",
       "      <td>161</td>\n",
       "    </tr>\n",
       "    <tr>\n",
       "      <th>...</th>\n",
       "      <td>...</td>\n",
       "      <td>...</td>\n",
       "    </tr>\n",
       "    <tr>\n",
       "      <th>2021-05</th>\n",
       "      <td>1028</td>\n",
       "      <td>153</td>\n",
       "    </tr>\n",
       "    <tr>\n",
       "      <th>2021-06</th>\n",
       "      <td>1019</td>\n",
       "      <td>162</td>\n",
       "    </tr>\n",
       "    <tr>\n",
       "      <th>2021-07</th>\n",
       "      <td>1051</td>\n",
       "      <td>172</td>\n",
       "    </tr>\n",
       "    <tr>\n",
       "      <th>2021-08</th>\n",
       "      <td>958</td>\n",
       "      <td>158</td>\n",
       "    </tr>\n",
       "    <tr>\n",
       "      <th>2021-09</th>\n",
       "      <td>77</td>\n",
       "      <td>67</td>\n",
       "    </tr>\n",
       "  </tbody>\n",
       "</table>\n",
       "<p>89 rows × 2 columns</p>\n",
       "</div>"
      ],
      "text/plain": [
       "            Number_of_comments  Median_of_Comment\n",
       "Year-Month                                       \n",
       "2014-05                    137                171\n",
       "2014-06                    366                156\n",
       "2014-07                    244                155\n",
       "2014-08                    193                152\n",
       "2014-09                    139                161\n",
       "...                        ...                ...\n",
       "2021-05                   1028                153\n",
       "2021-06                   1019                162\n",
       "2021-07                   1051                172\n",
       "2021-08                    958                158\n",
       "2021-09                     77                 67\n",
       "\n",
       "[89 rows x 2 columns]"
      ]
     },
     "execution_count": 54,
     "metadata": {},
     "output_type": "execute_result"
    }
   ],
   "source": [
    "dates=[]\n",
    "counts_comment=[]\n",
    "comment_median=[]\n",
    "\n",
    "fil = open('Part4/median_comment.txt','r')\n",
    "for row in fil:\n",
    "    row = row.strip()\n",
    "    date,count,median = row.split('\\t')\n",
    "    dates.append(date)\n",
    "    counts_comment.append(int(count))\n",
    "    comment_median.append(int(median))\n",
    "fil.close()\n",
    "\n",
    "median_data={'Number_of_comments':counts_comment,'Median_of_Comment':comment_median}\n",
    "month_dates=pd.Series(dates)\n",
    "data_median=pd.DataFrame(median_data)\n",
    "data_median=data_median.set_index(month_dates)\n",
    "data_median.index.name=\"Year-Month\"\n",
    "data_median"
   ]
  },
  {
   "cell_type": "code",
   "execution_count": 55,
   "metadata": {},
   "outputs": [
    {
     "data": {
      "image/png": "[encoded data removed]",
      "text/plain": [
       "<Figure size 1152x432 with 1 Axes>"
      ]
     },
     "metadata": {
      "needs_background": "light"
     },
     "output_type": "display_data"
    }
   ],
   "source": [
    "import numpy as np\n",
    "import seaborn as sns\n",
    "import matplotlib.pyplot as plt\n",
    " \n",
    "plt.figure(figsize=(16,6))\n",
    "sns.lineplot(x=data_median.index.values,y=data_median[\"Median_of_Comment\"])\n",
    "plt.xlim(-1,89)\n",
    "plt.xlabel(\"Year-Month\")\n",
    "plt.xticks([])\n",
    "plt.show()"
   ]
  },
  {
   "cell_type": "markdown",
   "metadata": {},
   "source": [
    "The above graph show the variation of median length of comment in the period May 2014 to September 2021"
   ]
  },
  {
   "cell_type": "markdown",
   "metadata": {},
   "source": [
    "#### PART 5"
   ]
  },
  {
   "cell_type": "markdown",
   "metadata": {},
   "source": [
    "For part 5 , a mapper , a combiner and a reducer were used. The final coefficient of correlation that I got was **0.818**"
   ]
  },
  {
   "cell_type": "markdown",
   "metadata": {},
   "source": [
    "-----------------------------------------------------------------------------------------------"
   ]
  },
  {
   "cell_type": "markdown",
   "metadata": {},
   "source": [
    "Aneesh Tickoo     \n",
    "12040190"
   ]
  }
 ],
 "metadata": {
  "kernelspec": {
   "display_name": "Python 3",
   "language": "python",
   "name": "python3"
  },
  "language_info": {
   "codemirror_mode": {
    "name": "ipython",
    "version": 3
   },
   "file_extension": ".py",
   "mimetype": "text/x-python",
   "name": "python",
   "nbconvert_exporter": "python",
   "pygments_lexer": "ipython3",
   "version": "3.7.9"
  }
 },
 "nbformat": 4,
 "nbformat_minor": 4
}
